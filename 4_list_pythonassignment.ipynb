{
 "cells": [
  {
   "cell_type": "markdown",
   "id": "892cebd7-fe2a-44ed-bcf7-da754ea1839f",
   "metadata": {},
   "source": [
    "#1. What exactly is []?\n",
    "\n",
    "    this '[]' denotes that new list has been created and we can store values in that particular value where it is been written.\n",
    "    for e.g :\n",
    "    toys _name = []\n",
    "    //we have created a new list named as toys_name.\n",
    "    "
   ]
  },
  {
   "cell_type": "code",
   "execution_count": 4,
   "id": "ddd8dbee-5a61-4546-90a0-ce387f61c1fe",
   "metadata": {},
   "outputs": [
    {
     "name": "stdout",
     "output_type": "stream",
     "text": [
      "['teddybear']\n"
     ]
    }
   ],
   "source": [
    "#code example\n",
    "toys_name = []\n",
    "toys_name.append(\"teddybear\")\n",
    "print(toys_name)"
   ]
  },
  {
   "cell_type": "markdown",
   "id": "c2bbd7dd-a913-482c-80b9-015419b72f51",
   "metadata": {},
   "source": [
    "#2. In a list of values stored in a variable called spam, how would you assign the value 'hello' as the\n",
    "    third value? (Assume [2, 4, 6, 8, 10] are in spam.)\n",
    "    \n",
    "    we can do this by using insert() method.\n",
    "    under this method we need to give two arguments. the index number where we want to insert the value and the the name of the value.\n",
    "    for e.g = spam.insert(2,'hello')\n",
    "    "
   ]
  },
  {
   "cell_type": "code",
   "execution_count": 5,
   "id": "e82c4c10-42fa-4a19-9935-3479a5d82d03",
   "metadata": {},
   "outputs": [
    {
     "name": "stdout",
     "output_type": "stream",
     "text": [
      "[2, 4, 'hello', 6, 8, 10]\n"
     ]
    }
   ],
   "source": [
    "#code example\n",
    "spam =  [2, 4, 6, 8, 10]\n",
    "spam.insert(2,'hello')\n",
    "print(spam)\n"
   ]
  },
  {
   "cell_type": "markdown",
   "id": "d9e01768-3de8-4868-92aa-1a38b63fef22",
   "metadata": {},
   "source": [
    "spam = ['a','b','c','d']\n",
    "\n",
    "#3. What is the value of spam[int(int('3' * 2) / 11)]?\n",
    "\n",
    "it will return 'd', as when we will solve the expression, here '3' is not a integer it is a string.\n",
    "so '3'*2 will result in 33\n",
    "and 33/11 will give 3.\n",
    "and int will convert string into int\n",
    "we will left with spam[3]\n",
    "means give the vakue which is there at index 3.\n",
    "\n",
    "#4. What is the value of spam[-1]?\n",
    "    the value at spam[-1] = ['d']\n",
    "    \n",
    "#5. What is the value of spam[:2]?\n",
    "    the value of spam[:2] = ['a','b']"
   ]
  },
  {
   "cell_type": "markdown",
   "id": "3403a06c-02fa-443f-9a5e-9e1af7db8b6c",
   "metadata": {},
   "source": [
    "bacon = [3.14,'cat', 11, 'cat', True]\n",
    "\n",
    "#6. What is the value of bacon.index('cat')?\n",
    "    \n",
    "    the value of index will be 1 as there are two cat it will return the index of 1st cat\n",
    "    \n",
    "#7. How does bacon.append(99) change the look of the list value in bacon?\n",
    "\n",
    "    bacon.append(99) will add the number 99 in the end of the list. one more element will get addes inside the list.the list will become\n",
    "    bacon = [3.14,'cat', 11, 'cat', True,99]\n",
    "    \n",
    "#8. How does bacon.remove('cat') change the look of the list in bacon?\n",
    "\n",
    "    As there are two 'cat' in the list it will just remove the first cat. not both of them. because also when we find the index of the 'cat',it refers to 1 index that is why it will         delete only 1st cat. "
   ]
  },
  {
   "cell_type": "markdown",
   "id": "2a8d2dad-c6ae-4add-a756-1ccd7769dc5a",
   "metadata": {},
   "source": [
    "#9. What are the list concatenation and list replication operators?\n",
    "    \n",
    "    we can concatinate the list by using '+' operator , extend() method , appending()\n",
    "    1. '+' operator : we can add elements of two list and make a new list out of them\n",
    "        list1 = [] , list2[]\n",
    "        list3 = list1[]+list[]\n",
    "    2. extend() = we can extend the one list ny using the elements of another list.\n",
    "       list1= [] , list2[]\n",
    "       list1.extend(list2)\n",
    "       \n",
    "    3. append() : we can append the elements of one list into another using for loop\n",
    "       list1=[] , list2= []\n",
    "       \n",
    "       for x in list2:\n",
    "           list1.append(x)\n",
    "           \n",
    "    for list replication we can use insert(), or directly change the value by giving index number of the same.\n",
    "    insert() will add the new element in the particular index.\n",
    "    by specifyind index we can replicate the value there\n",
    "    like list[2] = \"new_element_name\"\n",
    "     \n",
    " "
   ]
  },
  {
   "cell_type": "code",
   "execution_count": 21,
   "id": "5a5ebcb4-a3dd-400b-bf36-05236c13228c",
   "metadata": {},
   "outputs": [
    {
     "name": "stdout",
     "output_type": "stream",
     "text": [
      "[1, 2, 3, 4, 5, 6, 7, 8, 9, 10]\n",
      "[1, 2, 3, 4, 5, 6, 7, 8, 9, 10]\n",
      "[1, 2, 3, 4, 5, 6, 7, 8, 9, 10, 6, 7, 8, 9, 10]\n"
     ]
    }
   ],
   "source": [
    "#example of list concatination\n",
    "\n",
    "list1 = [1,2,3,4,5]\n",
    "list2 = [6,7,8,9,10]\n",
    "list3 = list1+list2\n",
    "print(list3)\n",
    "\n",
    "#using extend\n",
    "list1.extend(list2)\n",
    "print(list1)\n",
    "\n",
    "#using append\n",
    "\n",
    "for x in list2:\n",
    "    list3.append(x)\n",
    "print(list3)"
   ]
  },
  {
   "cell_type": "code",
   "execution_count": 24,
   "id": "8c956c15-bd6f-4a92-aae2-a5dbe467a028",
   "metadata": {},
   "outputs": [
    {
     "name": "stdout",
     "output_type": "stream",
     "text": [
      "['cherry', 'apple', 'banana', 'orange']\n",
      "['cherry', 'apple', 'guava', 'banana', 'orange']\n"
     ]
    }
   ],
   "source": [
    "# example of list replication\n",
    "\n",
    "fruits= ['mango' , 'apple', 'banana' , 'orange']\n",
    "fruits[0] = 'cherry'\n",
    "print(fruits)\n",
    "fruits.insert(2,\"guava\")\n",
    "print(fruits)"
   ]
  },
  {
   "cell_type": "markdown",
   "id": "64c613f7-fb82-45d2-9e77-59ffe28836d6",
   "metadata": {},
   "source": [
    "#10. What is difference between the list methods append() and insert()?\n",
    "\n",
    "     append() : It appends the value at the end of the list.Here we do not need to specify the index number.\n",
    "                list_name.append(\"value_name\")\n",
    "     insert() : It insert the value at the specified index.It takes two parameter index number and value name\n",
    "                list_name.insert(index_number,\"value_name\")\n",
    "                \n",
    "#11. What are the two methods for removing items from a list?\n",
    "\n",
    "\n",
    "     Two methods which are used to remove items form the list are:\n",
    "     remove() , pop()\n",
    "     remove() : This is used when we know the 'specific value' of the item to delete.\n",
    "                list_name.remove(\"item_name\")\n",
    "     pop()    : This is used when we know the 'index' of the item to delete.\n",
    "                list_name.pop(index_name)\n",
    "\n",
    "#12. Describe how list values and string values are identical.\n",
    "     \n",
    "     List values and string values are identical because:\n",
    "     all of them have a fixed value index.\n",
    "     These are indexed. both of them are iterable i.e we can iterate through them using loop.\n",
    "     we can fetch the values on the basis of their index number using loops.\n",
    "     \n",
    "#13. What's the difference between tuples and lists?\n",
    "\n",
    "     Both, Tuple and list are the collection datatype but they hold some difference.\n",
    "     The key difference is tuples elements are immutable whereas list elements are mutable.\n",
    "     \n",
    "     we can not replicate the elements once stored inside tuple, but we can easily do this in the list.\n",
    "     \n",
    "#14. How do you type a tuple value that only contains the integer 42?\n",
    "    We will make tuple which contais only one value like this.\n",
    "    'comma' after the value is mandatory or else it will not consider that particular value as a tuple.\n",
    "    \n",
    "    tuple = (42,) \n",
    "\n",
    "#15. How do you get a list value's tuple form? How do you get a tuple value's list form?\n",
    "\n",
    "    to chnage the list to tuple we will use tuple(), and pass the list name as a argument inside it\n",
    "    eg: \n",
    "    fruits = [\"apple\",\"banana\",\"orange\"]\n",
    "    tuple1 = tuple(fruits)\n",
    "    print(tuple1)\n",
    "    print(type(tuple1))\n",
    "    \n",
    "    to chnage tht tuple to list, we will use tuple() and pass the list as a argument\n",
    "    atuple = ('rakhi' ,45,67 , 'raja')\n",
    "    alist  = list(atuple)\n",
    "    print(alist)\n",
    "    \n",
    "  "
   ]
  },
  {
   "cell_type": "markdown",
   "id": "68ae3a65-6a85-49e1-baa3-3b41f99d3667",
   "metadata": {},
   "source": [
    "#16. Variables that \"contain\"; list values are not necessarily lists themselves. Instead, what do they\n",
    "     contain?\n",
    "     \n",
    "     vriable that contains list values but are not list can be a reference to a particular list.\n",
    "     like:\n",
    "     list1 = [3,5,6,7,8]\n",
    "     list2 = list1\n",
    "     \n",
    "     here list2 is not the list but a reference to list1.\n",
    "     also it can be a variable containing int and string values if they contain only 1 value."
   ]
  },
  {
   "cell_type": "markdown",
   "id": "0f7ec65d-bddb-4b62-a836-7ce284f934cc",
   "metadata": {},
   "source": [
    "#17. How do you distinguish between copy.copy() and copy.deepcopy()?\n",
    "\n",
    "     whenever we have a normal list like this[2,3,4,5] \"copy.copy() and copy.deepcopy()\" will work the same like if we change the value in the copied list it will not reflect in the          original list.\n",
    "     But if we have a list like this, many list under one list [[2,3,4],[5,6,7],[8,9,0]], both works different\n",
    "     here, in case of copy.copy :\n",
    "     if we change the element in copied list it will also get reflected in the original list.\n",
    "     if we want that changes made in a copied list does not reflect in the original list\n",
    "     we use copy.deepcopy() in these kinds of list"
   ]
  }
 ],
 "metadata": {
  "kernelspec": {
   "display_name": "Python 3 (ipykernel)",
   "language": "python",
   "name": "python3"
  },
  "language_info": {
   "codemirror_mode": {
    "name": "ipython",
    "version": 3
   },
   "file_extension": ".py",
   "mimetype": "text/x-python",
   "name": "python",
   "nbconvert_exporter": "python",
   "pygments_lexer": "ipython3",
   "version": "3.9.12"
  }
 },
 "nbformat": 4,
 "nbformat_minor": 5
}
