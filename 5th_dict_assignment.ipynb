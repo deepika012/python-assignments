{
 "cells": [
  {
   "cell_type": "markdown",
   "id": "9f81c550-3b2c-4196-a5f2-8d4e1da2241f",
   "metadata": {},
   "source": [
    "#1. What does an empty dictionary&#39;s code look like?\n",
    "\n",
    "    To create n empty dict:\n",
    "     \n",
    "     this_dict = {}\n",
    "     print(this_dict)\n",
    "     \n",
    "     empty dict will lokk like this {}\n",
    "     \n",
    "#2. What is the value of a dictionary value with the key 'foo' and the             value 42?\n",
    "\n",
    "    the value of a dictionary value with the key 'foo' and the                     value 42 is 42\n",
    "    \n",
    "#3. What is the most significant distinction between a dictionary and a list?\n",
    "\n",
    "    The most significant distinction between the list and the dictionary is       that we can refer to the elemnets of a list only by their respective           index number.\n",
    "    \n",
    "    but in the dictionary, we can give a reference name to the value and\n",
    "    extract them by typing their key name.\n",
    "    \n",
    "#4. What happens if you try to access spam['foo'] if spam is                       {'bar': 100}?\n",
    "\n",
    "    It will give us an error because there is no key exists with the name         'foo'.\n",
    "    \n",
    "#5. If a dictionary is stored in spam, what is the difference between the         expression 'cat' in spam and 'cat' in spam.keys()?\n",
    "\n",
    "    specifically there is no difference between both of them because both         expressions will check that whether 'cat' exists in the keys or not.\n",
    "\n",
    "#6. If a dictionary is stored in spam, what is the difference between the         expressions 'cat' in spam and 'cat' in spam.values()?\n",
    "\n",
    "   The difference between 'cat' in spam and 'cat' in spam.values() is that :\n",
    "   'cat' in spam expression will look in to the keys to check if cat exists in     keys or not. or\n",
    "   \n",
    "   'cat' in spam.values() expression will check if 'cat' exists in the values     of the dictionary or not.\n",
    "   \n",
    "#7. What is a shortcut for the following code?\n",
    "    if 'color' not in spam:\n",
    "    spam['color'] = 'black'\n",
    "    \n",
    "    The shortcut to add a key if it does not exists is using setdefault()         method.\n",
    "    \n",
    "    we can type :\n",
    "    spam.setdefault(\"colour\",\"black\")\n",
    "    \n",
    "    to add black as a colour if it does not exists.\n",
    "    \n",
    "    eg:"
   ]
  },
  {
   "cell_type": "code",
   "execution_count": 30,
   "id": "8b798b54-c824-415a-9bda-15cd7e07c8b0",
   "metadata": {},
   "outputs": [],
   "source": [
    "spam = { 'number':100 , 'name' :'animal'}"
   ]
  },
  {
   "cell_type": "code",
   "execution_count": 31,
   "id": "2092523f-ac04-47f4-8c2e-795fbc3b0a0c",
   "metadata": {},
   "outputs": [
    {
     "name": "stdout",
     "output_type": "stream",
     "text": [
      "{'number': 100, 'name': 'animal'}\n",
      "{'number': 100, 'name': 'animal', 'colour': 'black'}\n"
     ]
    }
   ],
   "source": [
    "print(spam)\n",
    "spam.setdefault(\"colour\",\"black\")\n",
    "print(spam)\n",
    "pprint.pprint(spam)"
   ]
  },
  {
   "cell_type": "markdown",
   "id": "015f2e36-1a0c-4ad9-aaea-e7adbaad01ea",
   "metadata": {},
   "source": [
    "8. How do you 'pretty print\" dictionary values using which module and function?\n",
    "\n",
    "we can pretty print dictionary using a module called'pprint' and a function name 'pprint()'."
   ]
  }
 ],
 "metadata": {
  "kernelspec": {
   "display_name": "Python 3 (ipykernel)",
   "language": "python",
   "name": "python3"
  },
  "language_info": {
   "codemirror_mode": {
    "name": "ipython",
    "version": 3
   },
   "file_extension": ".py",
   "mimetype": "text/x-python",
   "name": "python",
   "nbconvert_exporter": "python",
   "pygments_lexer": "ipython3",
   "version": "3.9.12"
  }
 },
 "nbformat": 4,
 "nbformat_minor": 5
}
