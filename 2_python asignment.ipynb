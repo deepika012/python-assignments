{
 "cells": [
  {
   "cell_type": "raw",
   "id": "fe002cec-b1e7-40d8-9d95-08d2438ea01f",
   "metadata": {},
   "source": [
    "1. The two values of boolean datatype id - True and False\n",
    "   By default the value is False.\n",
    "   we write it as if (a>b == True):\n",
    "                      print(a)"
   ]
  },
  {
   "cell_type": "raw",
   "id": "baafea58-039c-49f6-bb5c-585e7afb46c9",
   "metadata": {},
   "source": [
    "2. The three different types of boolean operator are 'AND' , 'OR' , 'NOT' .\n",
    "   'AND' : if al the conitions are true then only this operator returns True.\n",
    "   'OR'  : even if one condition is true, it will return true\n",
    "   'NOT' : This just reverse the results. it makes the true, false and false, true"
   ]
  },
  {
   "cell_type": "raw",
   "id": "b5e19ef2-0c1e-465a-b596-c80b8fc42a63",
   "metadata": {},
   "source": [
    "3. Truth table of 'AND'\n",
    "    'T' AND 'T  = 'T'\n",
    "    'F' AND 'T' ='F'\n",
    "    'T' AND 'F' = 'F'\n",
    "    'F' AND 'F' = 'F'\n",
    "    \n",
    "   Truth table of 'OR'\n",
    "    'T' OR 'T' = 'T'\n",
    "    'T' OR  'F'= 'T'\n",
    "    'F' OR 'T' = 'T'\n",
    "    'F' OR 'F' = 'F'\n",
    "    \n",
    "  Truth table of 'NOT'\n",
    "   'T' AND 'T  = 'F'\n",
    "    'F' AND 'T' ='T'\n",
    "    'F' OR 'T' = 'F'\n",
    "    'F' OR 'F' = 'T'\n",
    "  \n",
    "  "
   ]
  },
  {
   "cell_type": "raw",
   "id": "bb061915-8d0a-44e6-9e4e-6b56c5fdcfe9",
   "metadata": {},
   "source": [
    "4. values of the expression\n",
    "   False\n",
    "   False\n",
    "   True\n",
    "   False\n",
    "   False\n",
    "   True\n",
    "   "
   ]
  },
  {
   "cell_type": "raw",
   "id": "9da52518-b281-49f0-9f08-63918ecb9a2e",
   "metadata": {},
   "source": [
    "5. There are six types of comparison operator. They are :\n",
    "     1 greater than (>)\n",
    "     2 greater than equal to(>=)\n",
    "     3 less than (<)\n",
    "     4 less than equal to (<=)\n",
    "     5 equal to (==)\n",
    "     6 not equal to (!=)"
   ]
  },
  {
   "cell_type": "raw",
   "id": "361d6647-8725-4e17-900d-dd69f2e754f0",
   "metadata": {},
   "source": [
    "6. Difference btw equal to (==) and assignment operator(=)\n",
    "\n",
    "   equal to operator is used to do the comparison between two values that \n",
    "   whether the value in the right side is equal to value in the left side or      not.\n",
    "   whereas assignment operator is used to assign the value to the particular \n",
    "   variable.\n",
    "   \n",
    "   usecase:\n",
    "   //assigning the values\n",
    "   \n",
    "   a=4 , b=5 \n",
    "   if (a==4):\n",
    "     print('the value of a is 4')\n",
    "   "
   ]
  },
  {
   "cell_type": "raw",
   "id": "67965726-0a17-450d-8ee1-1fbed16803f3",
   "metadata": {},
   "source": [
    "7. spam = 0\n",
    "if spam == 10:\n",
    "   print('eggs')\n",
    "if spam>5:\n",
    "   print('bacon')\n",
    "else:\n",
    "   print('ham')\n",
    "   print('spam')\n",
    "   print('spam')"
   ]
  },
  {
   "cell_type": "code",
   "execution_count": 14,
   "id": "b6d90761-af1e-444c-89e8-016a463ce780",
   "metadata": {},
   "outputs": [
    {
     "name": "stdin",
     "output_type": "stream",
     "text": [
      "enter the number 1\n"
     ]
    },
    {
     "name": "stdout",
     "output_type": "stream",
     "text": [
      "Hello\n"
     ]
    }
   ],
   "source": [
    "#8\n",
    "n = input('enter the number')\n",
    "spam = int(n)\n",
    "\n",
    "if spam == 1:\n",
    "    print(\"Hello\")\n",
    "elif spam == 2:\n",
    "    print(\"Howdy\")\n",
    "else:    \n",
    "    print(\"Greetings!\")\n"
   ]
  },
  {
   "cell_type": "raw",
   "id": "5bc67b72-85b8-427e-9faa-88c85ddd0f7f",
   "metadata": {},
   "source": [
    "#9\n",
    "if program will stuck in endless loop. 'i will press interrupt the kernel.\n",
    "press (esc+i)"
   ]
  },
  {
   "cell_type": "raw",
   "id": "ee8d31dd-e8c4-4845-9db1-8790c277b5f8",
   "metadata": {},
   "source": [
    "#10 diff btw break and continue\n",
    "\n",
    "Break : break is a statement which helps to end the loop. that loop will get terminated where break is used and it will pass onto the next statements\n",
    "continue : continue statement is used to skip that particular iteration and it goes back to the next iteration. it does not break the the loop.\n",
    "\n"
   ]
  },
  {
   "cell_type": "raw",
   "id": "cd83372f-d3d4-430e-9c36-f443854cf5a2",
   "metadata": {},
   "source": [
    "#11\n",
    "\n",
    "range(10) : It means the number will start printing from the 0 and will print till 9 skipping the number which is written under range.\n",
    "range(0,10): It means that the number will start printing from 0 because 0 is written in the first index and it will print the numbers till 9 as it excludes the number written in the last index.\n",
    "range(0,10,1): It means that the numbers will get printed from the 0 to 9 taking a jump of 1 digit."
   ]
  },
  {
   "cell_type": "code",
   "execution_count": 21,
   "id": "478196c3-8417-4273-990d-62b4d6065498",
   "metadata": {},
   "outputs": [
    {
     "name": "stdout",
     "output_type": "stream",
     "text": [
      "1\n",
      "2\n",
      "3\n",
      "4\n",
      "5\n",
      "6\n",
      "7\n",
      "8\n",
      "9\n",
      "10\n"
     ]
    }
   ],
   "source": [
    "#12 printing numbers using for loop\n",
    "\n",
    "for i in range(1,11):\n",
    "    print (i)"
   ]
  },
  {
   "cell_type": "code",
   "execution_count": 22,
   "id": "84c6ef73-7f23-4faf-a836-7fa79ace4b51",
   "metadata": {},
   "outputs": [
    {
     "name": "stdout",
     "output_type": "stream",
     "text": [
      "1\n",
      "2\n",
      "3\n",
      "4\n",
      "5\n",
      "6\n",
      "7\n",
      "8\n",
      "9\n",
      "10\n"
     ]
    }
   ],
   "source": [
    "#using for loop\n",
    "i=1\n",
    "while i<=10:\n",
    "    print(i)\n",
    "    i=i+1"
   ]
  },
  {
   "cell_type": "code",
   "execution_count": null,
   "id": "7b940e43-3995-47ed-912f-37dd0ab288bc",
   "metadata": {},
   "outputs": [],
   "source": [
    "#13\n",
    "we can call the function bacon() by "
   ]
  }
 ],
 "metadata": {
  "kernelspec": {
   "display_name": "Python 3 (ipykernel)",
   "language": "python",
   "name": "python3"
  },
  "language_info": {
   "codemirror_mode": {
    "name": "ipython",
    "version": 3
   },
   "file_extension": ".py",
   "mimetype": "text/x-python",
   "name": "python",
   "nbconvert_exporter": "python",
   "pygments_lexer": "ipython3",
   "version": "3.9.12"
  }
 },
 "nbformat": 4,
 "nbformat_minor": 5
}
