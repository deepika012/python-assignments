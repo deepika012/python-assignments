{
 "cells": [
  {
   "cell_type": "markdown",
   "id": "c718fa9e-6997-44fa-a832-311dca554f10",
   "metadata": {},
   "source": [
    "#1. What are escape characters, and how do you use them?\n",
    "\n",
    "    Escape characters are used to insert those characters which are not allowed to insert inside the strings.\n",
    "    escape character is a backslash \\ followed by the character you want to insert.\n",
    "    \n",
    "    for eg: If we want to insert single quote (') inside the string which is enclosed by sinle quotes, we can't do it directly.\n",
    "            to insert it we will need to write this \\'\n",
    "            \n",
    "           \n",
    "#2. What do the escape characters n and t stand for?\n",
    "    \n",
    "    escape character 'n' used to add a new line after the word where it is return.\n",
    "    escape character 't' used to add one tab i.e four spaces after the word where it is written.\n",
    "    \n",
    "   \n",
    "    \n",
    "#3. What is the way to include backslash characters in a string?\n",
    "    \n",
    "    To include the backslash in the string, we will write double backslash to insert one backslash in the string.\n",
    "    e.g:\n",
    "    "
   ]
  },
  {
   "cell_type": "code",
   "execution_count": 8,
   "id": "6debdacb-f942-480f-b285-010cb008e8ab",
   "metadata": {},
   "outputs": [
    {
     "name": "stdout",
     "output_type": "stream",
     "text": [
      "hello \\ world\n"
     ]
    }
   ],
   "source": [
    "txt = \"hello \\\\ world\"\n",
    "print(txt)"
   ]
  },
  {
   "cell_type": "markdown",
   "id": "bfdef71b-b9ab-41e9-a95c-b7b150d76bfb",
   "metadata": {},
   "source": [
    "#4. The string \"Howl's Moving Castle\" is a correct value. Why isn't the single quote character in the word Howl's not escaped a problem?\n",
    "\n",
    "    It does not created a problem because the string was inside double quotes.\n",
    "    If the string was enclosed inside the single quotes it would have definetely created a problem.\n",
    "    \n",
    "#5. How do you write a string of newlines if you don't want to use the n character?\n",
    "\n",
    "    If we want to write a string of new line and do not want to use n. then we have to print it manually\n",
    "    for e.g\n",
    "    "
   ]
  },
  {
   "cell_type": "code",
   "execution_count": 14,
   "id": "b751aacb-dce2-4e6a-9600-e5ed5b81f5c9",
   "metadata": {},
   "outputs": [
    {
     "name": "stdout",
     "output_type": "stream",
     "text": [
      " my name is Deepika.\n",
      "I am doing python assignment\n"
     ]
    }
   ],
   "source": [
    "txt1 = \" my name is Deepika.\"  \n",
    "txt2 = \"I am doing python assignment\"\n",
    "print(txt1)\n",
    "print(txt2)"
   ]
  },
  {
   "cell_type": "markdown",
   "id": "5322ab53-a3f9-4e6c-b44d-9035e04f82d4",
   "metadata": {},
   "source": [
    "#6. What are the values of the given expressions?\n",
    "\n",
    "\n",
    "'Hello, world!'[1] :    e\n",
    "'Hello, world!'[0:5] :  Hello\n",
    "'Hello, world!'[:5] :   Hello\n",
    "'Hello, world!'[3:]     lo, world!\n",
    "\n",
    "\n"
   ]
  },
  {
   "cell_type": "markdown",
   "id": "f5890ae7-2c97-4ea4-9720-66243c0c72e6",
   "metadata": {},
   "source": [
    "#7. What are the values of the following expressions?\n",
    "\n",
    "\n",
    "'Hello'.upper()            : HELLO\n",
    "'Hello'.upper().isupper()  : false\n",
    "'Hello'.upper().lower()    : hello\n"
   ]
  },
  {
   "cell_type": "code",
   "execution_count": 21,
   "id": "8f93262b-7043-43b7-a6f8-f98ece919be9",
   "metadata": {},
   "outputs": [
    {
     "name": "stdout",
     "output_type": "stream",
     "text": [
      "False\n"
     ]
    }
   ],
   "source": [
    "print('Hello'.isupper() )"
   ]
  },
  {
   "cell_type": "markdown",
   "id": "3f9eef0b-3429-4c4f-a19a-db400a187841",
   "metadata": {},
   "source": [
    "$8. What are the values of the following expressions?\n",
    "\n",
    "'Remember, remember, the fifth of July.'.split():\n",
    "This will return the list of all the words which will get splitted after every whitespace \n",
    "\n",
    "  ['Remember,', 'remember,', 'the', 'fifth', 'of', 'July.']\n",
    "\n",
    "'-'.join('There can only one.'.split())\n",
    "\n",
    "First it will split every word inside the quotes and join those splitted words with hyphen -\n",
    "\n",
    "  There-can-only-one.\n"
   ]
  },
  {
   "cell_type": "markdown",
   "id": "3ebc549f-bd6e-4d0c-a307-4dbc525f3019",
   "metadata": {},
   "source": [
    "#9. What are the methods for right-justifying, left-justifying, and centering a string?\n",
    "\n",
    "    Justifying the string means telling the whole space which it would take and adding the whitespace or anycharacter where the space is empty.\n",
    "    \n",
    "    right justifying means telling the number of space a word would take and in the remaining spac in the right what character would be written.\n",
    "    syntax: ljust(len,fillchar)\n",
    "    \n",
    "    left justifying means telling the number of space a word would take and in the remaining spac in the left what character would be written.\n",
    "    syntax: rjust(len,fillchar)\n",
    "    \n",
    "    center alligning means telling the number of space a word would take and in the remaining spac in the left and right what character would be           written.\n",
    "    syntax: center(len,fillchar)   \n",
    "\n",
    "    \n",
    "    here:\n",
    "    len : it is the width the string would expand.\n",
    "    fillchar: The character which will get filled in the remaining space.\n",
    "    \n",
    "    \n",
    "    \n",
    "  "
   ]
  },
  {
   "cell_type": "code",
   "execution_count": 33,
   "id": "7c83d388-7ef0-4ebb-bf93-b85912ad2253",
   "metadata": {},
   "outputs": [
    {
     "name": "stdout",
     "output_type": "stream",
     "text": [
      "I am doing assignment###################\n",
      "###################I am doing assignment\n",
      "#########I am doing assignment##########\n"
     ]
    }
   ],
   "source": [
    "#justifying\n",
    "\n",
    "word = \"I am doing assignment\"\n",
    "print(word.ljust(40,'#'))\n",
    "print(word.rjust(40,'#'))\n",
    "print(word.center(40,'#'))"
   ]
  },
  {
   "cell_type": "code",
   "execution_count": null,
   "id": "fd7ac0c5-0330-433a-9f06-7d134ff0fe13",
   "metadata": {},
   "outputs": [],
   "source": [
    "#10. What is the best way to remove whitespace characters from the start or end?\n",
    "\n",
    "     To remove whitespace characters we can use lstrip() and rstrip()."
   ]
  },
  {
   "cell_type": "code",
   "execution_count": 36,
   "id": "e5115240-8e8c-49df-9848-70605eb81057",
   "metadata": {},
   "outputs": [
    {
     "name": "stdout",
     "output_type": "stream",
     "text": [
      "my name is deepika         \n",
      "           my name is deepika\n"
     ]
    }
   ],
   "source": [
    "txt = (\"           my name is deepika         \")\n",
    "print(txt.lstrip())\n",
    "print(txt.rstrip())"
   ]
  },
  {
   "cell_type": "code",
   "execution_count": null,
   "id": "62ce5e04-fa36-4ec9-aea1-359324732b29",
   "metadata": {},
   "outputs": [],
   "source": []
  }
 ],
 "metadata": {
  "kernelspec": {
   "display_name": "Python 3 (ipykernel)",
   "language": "python",
   "name": "python3"
  },
  "language_info": {
   "codemirror_mode": {
    "name": "ipython",
    "version": 3
   },
   "file_extension": ".py",
   "mimetype": "text/x-python",
   "name": "python",
   "nbconvert_exporter": "python",
   "pygments_lexer": "ipython3",
   "version": "3.9.12"
  }
 },
 "nbformat": 4,
 "nbformat_minor": 5
}
