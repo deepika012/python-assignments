{
 "cells": [
  {
   "cell_type": "markdown",
   "id": "061c7a81-b92e-4251-8a46-143da550e2c4",
   "metadata": {},
   "source": [
    "1. The two values of boolean datatype id - True and False\n",
    "   By default the value is False.\n",
    "   we write it as if (a>b == True):\n",
    "                      print(a)"
   ]
  },
  {
   "cell_type": "markdown",
   "id": "79cf442c-11cc-45c3-b549-bbd4ac8de00e",
   "metadata": {},
   "source": [
    "2. The three different types of boolean operator are 'AND' , 'OR' , 'NOT' .\n",
    "   'AND' : if al the conitions are true then only this operator returns True.\n",
    "   'OR'  : even if one condition is true, it will return true\n",
    "   'NOT' : This just reverse the results. it makes the true, false and false, true"
   ]
  },
  {
   "cell_type": "markdown",
   "id": "27cd7d4e-1af6-44fa-9dfd-ad572c195c00",
   "metadata": {},
   "source": [
    "3. Truth table of 'AND'\n",
    "    'T' AND 'T  = 'T'\n",
    "    'F' AND 'T' ='F'\n",
    "    'T' AND 'F' = 'F'\n",
    "    'F' AND 'F' = 'F'\n",
    "    \n",
    "   Truth table of 'OR'\n",
    "    'T' OR 'T' = 'T'\n",
    "    'T' OR  'F'= 'T'\n",
    "    'F' OR 'T' = 'T'\n",
    "    'F' OR 'F' = 'F'\n",
    "    \n",
    "  Truth table of 'NOT'\n",
    "   'T' AND 'T  = 'F'\n",
    "    'F' AND 'T' ='T'\n",
    "    'F' OR 'T' = 'F'\n",
    "    'F' OR 'F' = 'T'\n",
    "  \n",
    "  "
   ]
  },
  {
   "cell_type": "markdown",
   "id": "916c73cf-69eb-47d3-b7b3-996cea0ed4d1",
   "metadata": {},
   "source": [
    "4. values of the expression\n",
    "   False\n",
    "   False\n",
    "   True\n",
    "   False\n",
    "   False\n",
    "   True\n",
    "   "
   ]
  },
  {
   "cell_type": "markdown",
   "id": "dadf2999-da9f-4fe8-a19a-35f3abd148fb",
   "metadata": {},
   "source": [
    "5. There are six types of comparison operator. They are :\n",
    "     1 greater than (>)\n",
    "     2 greater than equal to(>=)\n",
    "     3 less than (<)\n",
    "     4 less than equal to (<=)\n",
    "     5 equal to (==)\n",
    "     6 not equal to (!=)"
   ]
  },
  {
   "cell_type": "markdown",
   "id": "3f721fa4-58da-43ad-9d94-0aedd03aaa63",
   "metadata": {},
   "source": [
    "6. Difference btw equal to (==) and assignment operator(=)\n",
    "\n",
    "   equal to operator is used to do the comparison between two values that \n",
    "   whether the value in the right side is equal to value in the left side or      not.\n",
    "   whereas assignment operator is used to assign the value to the particular \n",
    "   variable.\n",
    "   \n",
    "   usecase:\n",
    "   //assigning the values\n",
    "   \n",
    "   a=4 , b=5 \n",
    "   if (a==4):\n",
    "     print('the value of a is 4')\n",
    "   "
   ]
  },
  {
   "cell_type": "markdown",
   "id": "45a781a2-b761-4f20-bdb3-5397d03ba770",
   "metadata": {},
   "source": [
    "7. spam = 0\n",
    "if spam == 10:\n",
    "   print('eggs')\n",
    "if spam>5:\n",
    "   print('bacon')\n",
    "else:\n",
    "   print('ham')\n",
    "   print('spam')\n",
    "   print('spam')"
   ]
  },
  {
   "cell_type": "code",
   "execution_count": 23,
   "id": "84708e84-aa60-48d5-a912-9680ebe9bb5a",
   "metadata": {},
   "outputs": [
    {
     "name": "stdin",
     "output_type": "stream",
     "text": [
      "enter the number 2\n"
     ]
    },
    {
     "name": "stdout",
     "output_type": "stream",
     "text": [
      "Howdy\n"
     ]
    }
   ],
   "source": [
    "#8\n",
    "n = input('enter the number')\n",
    "spam = int(n)\n",
    "\n",
    "if spam == 1:\n",
    "    print(\"Hello\")\n",
    "elif spam == 2:\n",
    "    print(\"Howdy\")\n",
    "else:    \n",
    "    print(\"Greetings!\")\n"
   ]
  },
  {
   "cell_type": "markdown",
   "id": "d9b63cd9-d57b-474d-a894-3ca0253f9406",
   "metadata": {},
   "source": [
    "#9\n",
    "if program will stuck in endless loop. 'i will press interrupt the kernel.\n",
    "press (esc+i)"
   ]
  },
  {
   "cell_type": "markdown",
   "id": "807d874f-152b-4c29-aaeb-d3485c26959a",
   "metadata": {},
   "source": [
    "#10 diff btw break and continue\n",
    "\n",
    "Break : break is a statement which helps to end the loop. that loop will get terminated where break is used and it will pass onto the next statements\n",
    "continue : continue statement is used to skip that particular iteration and it goes back to the next iteration. it does not break the the loop.\n",
    "\n"
   ]
  },
  {
   "cell_type": "markdown",
   "id": "f1d16e9d-da5d-42f8-ab0d-16234cc02028",
   "metadata": {},
   "source": [
    "#11\n",
    "\n",
    "range(10) : It means the number will start printing from the 0 and will print till 9 skipping the number which is written under range.\n",
    "range(0,10): It means that the number will start printing from 0 because 0 is written in the first index and it will print the numbers till 9 as it excludes the number written in the last index.\n",
    "range(0,10,1): It means that the numbers will get printed from the 0 to 9 taking a jump of 1 digit."
   ]
  },
  {
   "cell_type": "code",
   "execution_count": 24,
   "id": "a81b9944-28b1-4361-baaa-188a78dd75b8",
   "metadata": {},
   "outputs": [
    {
     "name": "stdout",
     "output_type": "stream",
     "text": [
      "1\n",
      "2\n",
      "3\n",
      "4\n",
      "5\n",
      "6\n",
      "7\n",
      "8\n",
      "9\n",
      "10\n"
     ]
    }
   ],
   "source": [
    "#12 printing numbers using for loop\n",
    "\n",
    "for i in range(1,11):\n",
    "    print (i)"
   ]
  },
  {
   "cell_type": "code",
   "execution_count": 25,
   "id": "edcf1851-e27c-41e9-bad1-ab5b19e5c2d5",
   "metadata": {},
   "outputs": [
    {
     "name": "stdout",
     "output_type": "stream",
     "text": [
      "1\n",
      "2\n",
      "3\n",
      "4\n",
      "5\n",
      "6\n",
      "7\n",
      "8\n",
      "9\n",
      "10\n"
     ]
    }
   ],
   "source": [
    "#using for loop\n",
    "i=1\n",
    "while i<=10:\n",
    "    print(i)\n",
    "    i=i+1"
   ]
  },
  {
   "cell_type": "markdown",
   "id": "0fbdef24-3ffc-4dbe-aefe-b0e4fb2b0ff5",
   "metadata": {},
   "source": [
    "#13\n",
    "we can call the function bacon() by using (.) dot operator"
   ]
  }
 ],
 "metadata": {
  "kernelspec": {
   "display_name": "Python 3 (ipykernel)",
   "language": "python",
   "name": "python3"
  },
  "language_info": {
   "codemirror_mode": {
    "name": "ipython",
    "version": 3
   },
   "file_extension": ".py",
   "mimetype": "text/x-python",
   "name": "python",
   "nbconvert_exporter": "python",
   "pygments_lexer": "ipython3",
   "version": "3.9.12"
  }
 },
 "nbformat": 4,
 "nbformat_minor": 5
}
