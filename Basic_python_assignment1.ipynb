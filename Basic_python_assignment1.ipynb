{
 "cells": [
  {
   "cell_type": "code",
   "execution_count": 1,
   "id": "0834b825-0966-4b60-a04b-092a6c34bb9e",
   "metadata": {},
   "outputs": [],
   "source": [
    "#python basic assignment 1"
   ]
  },
  {
   "cell_type": "markdown",
   "id": "d41ac8a4-c554-46fa-a469-34deb7e61f4e",
   "metadata": {},
   "source": [
    " 1. Identifying values and expression\n",
    "   values : 'hello' , '-87.8' , 6 \n",
    "   expression : * , - , / ,+\n"
   ]
  },
  {
   "cell_type": "raw",
   "id": "c88cee72-03ff-4586-9739-8a934847a848",
   "metadata": {},
   "source": [
    "# 2. difference btw string and variable\n",
    "   \n",
    "   # string : string is used to hold sequence of character. string can be also defined as a array of characters.\n",
    "   #          whenever we introduce string we have to enclose them in single or double quotes.\n",
    "   #          string is basically a value which we store under the variable\n",
    "   \n",
    "   # variable : Variables are a type a case or a bad under which we store variable.\n",
    "   #             under the variables, we can store either numbers or string.\n",
    "   #             Basically variable is a name which we can refer to any string\n",
    "   \n",
    "   # for example : my_info = \" My name is Deepika \"\n",
    "   #               here 'my_info' is a variable name and the information stored under it is a string.\n",
    "                       "
   ]
  },
  {
   "cell_type": "raw",
   "id": "7d8faf2e-9471-401d-8b19-5dff2173b413",
   "metadata": {},
   "source": [
    " 3.  decribing three datatypes\n",
    "\n",
    " 1- Int : integer is a kind of numberic datatype which can hold any integer value.\n",
    "             example : age = 5 ; here age is a kind of int datatype\n",
    " 2- Float : float is another kind of datatype which can hold only decimal values\n",
    "             example : temp = 42.2 C ; here temp is a kind of float datatype\n",
    " 3 - List : List is a kind of sequence datatype which can hold a collection of many values irrespective of their data types.\n",
    "            like in a variable we can only store single value, in that case 'list' becomes very useful to store more than one data.\n",
    "            It is like putting many values in a single variable. each value have their own index so that we can refer to them\n",
    "            example: l = ['mini' , 5 ,6.7,'tini']"
   ]
  },
  {
   "cell_type": "markdown",
   "id": "1d9dbb3f-784f-4197-9ab4-479decdf4102",
   "metadata": {},
   "source": [
    " 4. what is an expression made up of ? what all do expression do ?\n",
    "    \n",
    "    Expression is a kind of equation which is made by using various operators like arithmetic operator(+,-,*,/) ,logical operators (&& , || ),\n",
    "    assignment operator (=) , comparison operator (>,<,==) and using various varibale to perform some operation.\n",
    "    \n",
    "    Expression is used to evaluate something and find the result by making particular equation. they are evaluated according to the precedence of the     opeartors.\n",
    "    \n",
    "    \n",
    "    "
   ]
  },
  {
   "cell_type": "markdown",
   "id": "c337744b-0516-4049-9c12-4c3b9f8efefa",
   "metadata": {},
   "source": [
    "5.  difference btw the expression and the statement\n",
    "\n",
    "    statement : here spam = 10 is just a assignment of value of 10 to the variable spam. It is stating that the variable spam contains the vaue 10\n",
    "    that is it. it is not performing any operation. so the statement is just the declaration that this varibale contains this particular value\n",
    "    \n",
    "    expression : whereas expression performs some operating using various kinds of operator. after the execution of it, it gves us some result.\n",
    "      "
   ]
  },
  {
   "cell_type": "markdown",
   "id": "97b476bf-df7d-4c24-95f2-5fe81816b335",
   "metadata": {},
   "source": [
    "6. the value of bacon will remain as 22 because bacon is just a variable and there is no sense of adding 1 to it until we are \n",
    "   storing bacon +1 in another variabel."
   ]
  },
  {
   "cell_type": "markdown",
   "id": "74e11512-87f7-458b-9739-f2bf29018009",
   "metadata": {},
   "source": [
    "7. 'spam'+'spamspam' will become 'spamspamspam'\n",
    "   'spam' * 3 will become 'spamspamspam'"
   ]
  },
  {
   "cell_type": "markdown",
   "id": "9154b1f1-ff6a-498d-abae-31e93620b186",
   "metadata": {},
   "source": [
    "8.  'Egg' is valid variable name because it is taring with a alphabetical character\n",
    "     while '100' is a numeric value and we cannot keep the name of the variable which is starting from the numeric value that is why it is invalid."
   ]
  },
  {
   "cell_type": "markdown",
   "id": "27f5dec9-34ca-4c4a-a572-c8865dd8120e",
   "metadata": {},
   "source": [
    "9.   the value passed under int() function will return integer value.\n",
    "      the value passed under float() function will return floating value.\n",
    "       the value passed under str() function will return string value."
   ]
  },
  {
   "cell_type": "markdown",
   "id": "15b7e278-1a0e-4302-ab20-b0776d7a78cd",
   "metadata": {},
   "source": [
    "10. ('I have eaten' + 99 + 'buros') \n",
    "    This will create error because 99 is a integer number and we cannot add a integer to a string.\n",
    "    to correct this, we can make 99 a string by enclosing it under a single quote and then the all three strings will get concatinated.\n",
    "    \n",
    "    'I have eaten' + '99' + 'buros'"
   ]
  },
  {
   "cell_type": "code",
   "execution_count": null,
   "id": "65e8d72e-cede-4529-8ac6-ef950bfcf3e5",
   "metadata": {},
   "outputs": [],
   "source": []
  }
 ],
 "metadata": {
  "kernelspec": {
   "display_name": "Python 3 (ipykernel)",
   "language": "python",
   "name": "python3"
  },
  "language_info": {
   "codemirror_mode": {
    "name": "ipython",
    "version": 3
   },
   "file_extension": ".py",
   "mimetype": "text/x-python",
   "name": "python",
   "nbconvert_exporter": "python",
   "pygments_lexer": "ipython3",
   "version": "3.9.12"
  }
 },
 "nbformat": 4,
 "nbformat_minor": 5
}
